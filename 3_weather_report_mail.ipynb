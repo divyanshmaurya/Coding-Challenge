{
 "cells": [
  {
   "cell_type": "code",
   "execution_count": 14,
   "id": "cec4002c",
   "metadata": {},
   "outputs": [],
   "source": [
    "import requests\n",
    "import ast\n",
    "import matplotlib.pyplot as plt\n",
    "import numpy as np"
   ]
  },
  {
   "cell_type": "code",
   "execution_count": 8,
   "id": "e48a9025",
   "metadata": {},
   "outputs": [],
   "source": [
    "input_appid=\"30da3a731a35e7e69285b1a5dd3244af\"\n",
    "def get_temperatue_by_lat_lon(input_lat,input_lon):    \n",
    "    url = f\"https://api.openweathermap.org/data/2.5/weather?lat={input_lat}&lon={input_lon}&appid={input_appid}\"\n",
    "    payload = {}\n",
    "    headers = {}\n",
    "    response = requests.request(\"GET\", url, headers=headers, data=payload)\n",
    "    binary_string=response._content\n",
    "\n",
    "    # Decode the binary string to a regular string\n",
    "    decoded_string = binary_string.decode('utf-8')\n",
    "\n",
    "    # Convert the string to a dictionary\n",
    "    dictionary = ast.literal_eval(decoded_string)\n",
    "    \n",
    "    data=dictionary.get(\"main\")\n",
    "    # print(dictionary.get(\"main\"))\n",
    "    temperature=(data.get(\"temp\"),data.get(\"temp_min\"), data.get(\"temp_max\"))\n",
    "    return temperature\n"
   ]
  },
  {
   "cell_type": "code",
   "execution_count": 11,
   "id": "d6343438",
   "metadata": {},
   "outputs": [],
   "source": [
    "import smtplib\n",
    "from email.mime.text import MIMEText\n",
    "from email.mime.multipart import MIMEMultipart\n",
    "\n",
    "def send_email(lat,lon,recipient_email):\n",
    "    try:\n",
    "        sender_email = \"dm6192419@gmail.com\"\n",
    "        sender_password = \"edct mxas pkco zgbn\"  # Use an app password if 2FA is enabled\n",
    "       \n",
    "        subject = \"Weather Report by Divyansh\"\n",
    "        \n",
    "        data=get_temperatue_by_lat_lon(lat, lon)\n",
    "        temperature=data[0]\n",
    "        min_temp=data[1]\n",
    "        max_temp=data[2]\n",
    "        \n",
    "        \n",
    "        body = f'''As per the given longitude and latitude, the maximum temperature is {max_temp} ,\n",
    "        minimum temperatiure is {min_temp} and the current temperature is {temperature}.\n",
    "        '''\n",
    "        \n",
    "        # Set up the MIME\n",
    "        message = MIMEMultipart()\n",
    "        message['From'] = sender_email\n",
    "        message['To'] = recipient_email\n",
    "        message['Subject'] = subject\n",
    "\n",
    "        # Attach the body to the email\n",
    "        message.attach(MIMEText(body, 'plain'))\n",
    "\n",
    "        # Connect to the server and send the email\n",
    "        server = smtplib.SMTP('smtp.gmail.com', 587)\n",
    "        server.starttls()  # Upgrade connection to secure encrypted SSL/TLS\n",
    "        server.login(sender_email, sender_password)\n",
    "        server.sendmail(sender_email, recipient_email, message.as_string())\n",
    "        server.quit()\n",
    "\n",
    "        print(f\"Email sent successfully to email ID : {recipient_email}\")\n",
    "\n",
    "    except Exception as e:\n",
    "        print(f\"Failed to send email: {e}\")\n",
    "\n",
    "        "
   ]
  },
  {
   "cell_type": "code",
   "execution_count": 12,
   "id": "73f676c7",
   "metadata": {},
   "outputs": [
    {
     "name": "stdout",
     "output_type": "stream",
     "text": [
      "Email sent successfully to email ID : divyansh.ku@gmail.com\n",
      "None\n"
     ]
    }
   ],
   "source": [
    "print(send_email(12.9716, 77.5946, \"divyansh.ku@gmail.com\"))"
   ]
  },
  {
   "cell_type": "code",
   "execution_count": 13,
   "id": "58cf56f9",
   "metadata": {},
   "outputs": [],
   "source": []
  },
  {
   "cell_type": "code",
   "execution_count": null,
   "id": "ae49ddb5",
   "metadata": {},
   "outputs": [],
   "source": []
  },
  {
   "cell_type": "code",
   "execution_count": null,
   "id": "a71a2bf5",
   "metadata": {},
   "outputs": [],
   "source": []
  },
  {
   "cell_type": "code",
   "execution_count": 16,
   "id": "5f667f44",
   "metadata": {},
   "outputs": [],
   "source": [
    "karnataka_cities = {\n",
    "    \"Bengaluru\": (12.9716, 77.5946),\n",
    "    \"Mysuru\": (12.2958, 76.6394),\n",
    "    \"Mangaluru\": (12.9141, 74.8560),\n",
    "    \"Hubballi\": (15.3647, 75.1239),\n",
    "    \"Dharwad\": (15.4589, 75.0078),\n",
    "    \"Belagavi\": (15.8497, 74.4977),\n",
    "    \"Ballari\": (15.1394, 76.9214),\n",
    "    \"Kalaburagi\": (17.3297, 76.8343),\n",
    "    \"Davangere\": (14.4640, 75.9238),\n",
    "    \"Shivamogga\": (13.9299, 75.5681),\n",
    "    \"Tumakuru\": (13.3392, 77.1130),\n",
    "    \"Udupi\": (13.3409, 74.7421),\n",
    "    \"Bidar\": (17.9139, 77.5045),\n",
    "    \"Chikkamagaluru\": (13.3166, 75.7728),\n",
    "    \"Raichur\": (16.2076, 77.3462),\n",
    "    \"Hassan\": (13.0072, 76.0960),\n",
    "    \"Bijapur\": (16.8302, 75.7100),\n",
    "    \"Kolar\": (13.1367, 78.1291),\n",
    "    \"Mandya\": (12.5211, 76.8953),\n",
    "    \"Bagalkot\": (16.1729, 75.6615),\n",
    "}"
   ]
  },
  {
   "cell_type": "code",
   "execution_count": 17,
   "id": "0e690e3c",
   "metadata": {},
   "outputs": [],
   "source": [
    "def get_temp_by_city(city):\n",
    "    lat,lon=karnataka_cities.get(city)\n",
    "    return get_temperatue_by_lat_lon(lat,lon)"
   ]
  },
  {
   "cell_type": "code",
   "execution_count": 18,
   "id": "88372a1c",
   "metadata": {},
   "outputs": [],
   "source": [
    "city_data=[]\n",
    "city_names=[]\n",
    "\n",
    "for city, lat_lon in karnataka_cities.items():\n",
    "    city_names.append(city)\n",
    "    city_data.append(get_temp_by_city(city))\n",
    "\n",
    "city_names=city_names[:10]\n",
    "city_data=city_data[:10]"
   ]
  },
  {
   "cell_type": "code",
   "execution_count": 25,
   "id": "401fcbce",
   "metadata": {},
   "outputs": [],
   "source": [
    "def create_chart(city_data, city_names):\n",
    "    # Create the x positions for the cities with spacing\n",
    "    x_positions = np.arange(len(city_names)) * 4  # Multiply to create spaces between cities\n",
    "    \n",
    "    # Separate data for temperatures\n",
    "    temperatures = [data[0] for data in city_data]\n",
    "    min_temperatures = [data[1] for data in city_data]\n",
    "    max_temperatures = [data[2] for data in city_data]\n",
    "\n",
    "    # Width of the bars\n",
    "    bar_width = 0.8\n",
    "\n",
    "    # Plotting each temperature type\n",
    "    plt.bar(x_positions - bar_width, min_temperatures, width=bar_width, label='Min Temperature', color='blue')\n",
    "    plt.bar(x_positions, temperatures, width=bar_width, label='Temperature', color='orange')\n",
    "    plt.bar(x_positions + bar_width, max_temperatures, width=bar_width, label='Max Temperature', color='red')\n",
    "\n",
    "    # Add labels, title, and legend\n",
    "    plt.xlabel(\"Cities\")\n",
    "    plt.ylabel(\"Temperature (°C)\")\n",
    "    plt.title(\"Temperature Data of Cities\")\n",
    "    plt.xticks(x_positions, city_names, rotation=45)\n",
    "    plt.legend()\n",
    "    \n",
    "    # Adjust layout to prevent clipping\n",
    "    plt.tight_layout()\n",
    "\n",
    "    \n",
    "    # Save chart to a BytesIO object\n",
    "    buf = io.BytesIO()\n",
    "    plt.savefig(buf, format='png')\n",
    "    buf.seek(0)\n",
    "    plt.close()\n",
    "    return buf\n"
   ]
  },
  {
   "cell_type": "code",
   "execution_count": null,
   "id": "58043b91",
   "metadata": {},
   "outputs": [],
   "source": []
  },
  {
   "cell_type": "code",
   "execution_count": 36,
   "id": "cd578441",
   "metadata": {},
   "outputs": [],
   "source": [
    "import smtplib\n",
    "from email.mime.text import MIMEText\n",
    "from email.mime.multipart import MIMEMultipart\n",
    "from email.mime.image import MIMEImage\n",
    "import matplotlib.pyplot as plt\n",
    "import io\n",
    "\n",
    "def send_email_with_chart(lat, lon, recipient_email):\n",
    "    try:\n",
    "        sender_email = \"dm6192419@gmail.com\"\n",
    "        sender_password = \"edct mxas pkco zgbn\"  # Use an app password if 2FA is enabled\n",
    "       \n",
    "        subject = \"Weather Report by Divyansh\"\n",
    "        \n",
    "        data=get_temperatue_by_lat_lon(lat, lon)\n",
    "        temperature=data[0]\n",
    "        min_temp=data[1]\n",
    "        max_temp=data[2]\n",
    "        \n",
    "        \n",
    "        raw_message = f'''As per the given longitude and latitude, the maximum temperature is {max_temp} , minimum temperatiure is {min_temp} and the current temperature is {temperature}.'''\n",
    "        \n",
    "        \n",
    "        # Generate the chart\n",
    "        chart_buf = create_chart(city_data,city_names)\n",
    "        \n",
    "        # Create the email\n",
    "        message = MIMEMultipart()\n",
    "        message['From'] = sender_email\n",
    "        message['To'] = recipient_email\n",
    "        message['Subject'] = subject\n",
    "\n",
    "        # HTML content\n",
    "        html_content = f\"\"\"\n",
    "        <!DOCTYPE html>\n",
    "        <html>\n",
    "        <head>\n",
    "            <title>Matplotlib Chart</title>\n",
    "        </head>\n",
    "        <body>\n",
    "            <h2>{raw_message}</h2>\n",
    "            <h3>Here is the chart for temperature:</h3>\n",
    "            <img src=\"cid:chart_image\" alt=\"Matplotlib Chart\" style=\"max-width: 100%; height: 100%;\">\n",
    "        </body>\n",
    "        </html>\n",
    "        \"\"\"\n",
    "        message.attach(MIMEText(html_content, 'html'))\n",
    "\n",
    "        # Attach the chart as an image\n",
    "        image = MIMEImage(chart_buf.read(), name=\"chart.png\")\n",
    "        image.add_header('Content-ID', '<chart_image>')  # Match 'cid' in the HTML\n",
    "        message.attach(image)\n",
    "\n",
    "        # Connect to the server and send the email\n",
    "        server = smtplib.SMTP('smtp.gmail.com', 587)\n",
    "        server.starttls()\n",
    "        server.login(sender_email, sender_password)\n",
    "        server.send_message(message)\n",
    "        server.quit()\n",
    "        \n",
    "        chart_buf.close()\n",
    "        return \"Email with chart sent successfully!\"\n",
    "        \n",
    "        \n",
    "\n",
    "    except Exception as e:\n",
    "        return f\"Failed to send email: {e}\""
   ]
  },
  {
   "cell_type": "code",
   "execution_count": 38,
   "id": "363ee946",
   "metadata": {},
   "outputs": [
    {
     "data": {
      "text/plain": [
       "'Email with chart sent successfully!'"
      ]
     },
     "execution_count": 38,
     "metadata": {},
     "output_type": "execute_result"
    }
   ],
   "source": [
    "send_email_with_chart(12.9716, 77.5946, \"apoorvmathur@live.in\")"
   ]
  },
  {
   "cell_type": "code",
   "execution_count": null,
   "id": "217f2f2e",
   "metadata": {},
   "outputs": [],
   "source": []
  }
 ],
 "metadata": {
  "kernelspec": {
   "display_name": "myvenv",
   "language": "python",
   "name": "myvenv"
  },
  "language_info": {
   "codemirror_mode": {
    "name": "ipython",
    "version": 3
   },
   "file_extension": ".py",
   "mimetype": "text/x-python",
   "name": "python",
   "nbconvert_exporter": "python",
   "pygments_lexer": "ipython3",
   "version": "3.8.8"
  }
 },
 "nbformat": 4,
 "nbformat_minor": 5
}
