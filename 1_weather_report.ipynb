{
 "cells": [
  {
   "cell_type": "code",
   "execution_count": 13,
   "id": "c668bf62",
   "metadata": {},
   "outputs": [
    {
     "name": "stdout",
     "output_type": "stream",
     "text": [
      "{'temp': 272.8, 'feels_like': 270.02, 'temp_min': 270.49, 'temp_max': 272.8, 'pressure': 1024, 'humidity': 77, 'sea_level': 1024, 'grnd_level': 953}\n"
     ]
    }
   ],
   "source": [
    "import requests\n",
    "import ast\n",
    "input_lat=\"44.34\"\n",
    "input_lon=\"10.99\"\n",
    "input_appid=\"30da3a731a35e7e69285b1a5dd3244af\"\n",
    "\n",
    "\n",
    "url = f\"https://api.openweathermap.org/data/2.5/weather?lat={input_lat}&lon={input_lon}&appid={input_appid}\"\n",
    "\n",
    "payload = {}\n",
    "headers = {}\n",
    "\n",
    "response = requests.request(\"GET\", url, headers=headers, data=payload)\n",
    "binary_string=response._content\n",
    "\n",
    "# Decode the binary string to a regular string\n",
    "decoded_string = binary_string.decode('utf-8')\n",
    "\n",
    "# Convert the string to a dictionary\n",
    "dictionary = ast.literal_eval(decoded_string)\n",
    "\n",
    "\n",
    "print(dictionary.get(\"main\"))"
   ]
  },
  {
   "cell_type": "code",
   "execution_count": 3,
   "id": "75ad79ae",
   "metadata": {},
   "outputs": [
    {
     "name": "stdout",
     "output_type": "stream",
     "text": [
      "{'_content': b'{\"coord\":{\"lon\":10.99,\"lat\":44.34},\"weather\":[{\"id\":800,\"main\":\"Clear\",\"description\":\"clear sky\",\"icon\":\"01n\"}],\"base\":\"stations\",\"main\":{\"temp\":272.8,\"feels_like\":269.82,\"temp_min\":271.05,\"temp_max\":272.8,\"pressure\":1024,\"humidity\":80,\"sea_level\":1024,\"grnd_level\":953},\"visibility\":10000,\"wind\":{\"speed\":2.4,\"deg\":219,\"gust\":1.44},\"clouds\":{\"all\":7},\"dt\":1734761510,\"sys\":{\"type\":1,\"id\":6812,\"country\":\"IT\",\"sunrise\":1734763737,\"sunset\":1734795572},\"timezone\":3600,\"id\":3163858,\"name\":\"Zocca\",\"cod\":200}', '_content_consumed': True, '_next': None, 'status_code': 200, 'headers': {'Server': 'openresty', 'Date': 'Sat, 21 Dec 2024 06:17:33 GMT', 'Content-Type': 'application/json; charset=utf-8', 'Content-Length': '505', 'Connection': 'keep-alive', 'X-Cache-Key': '/data/2.5/weather?lat=44.34&lon=10.99', 'Access-Control-Allow-Origin': '*', 'Access-Control-Allow-Credentials': 'true', 'Access-Control-Allow-Methods': 'GET, POST'}, 'raw': <urllib3.response.HTTPResponse object at 0x7fd979a20880>, 'url': 'https://api.openweathermap.org/data/2.5/weather?lat=44.34&lon=10.99&appid=30da3a731a35e7e69285b1a5dd3244af', 'encoding': 'utf-8', 'history': [], 'reason': 'OK', 'cookies': <RequestsCookieJar[]>, 'elapsed': datetime.timedelta(seconds=3, microseconds=259265), 'request': <PreparedRequest [GET]>, 'connection': <requests.adapters.HTTPAdapter object at 0x7fd9797a4a00>}\n"
     ]
    }
   ],
   "source": [
    "print(response.__dict__)"
   ]
  },
  {
   "cell_type": "code",
   "execution_count": 8,
   "id": "9604449d",
   "metadata": {},
   "outputs": [
    {
     "name": "stdout",
     "output_type": "stream",
     "text": [
      "_content : b'{\"coord\":{\"lon\":10.99,\"lat\":44.34},\"weather\":[{\"id\":800,\"main\":\"Clear\",\"description\":\"clear sky\",\"icon\":\"01n\"}],\"base\":\"stations\",\"main\":{\"temp\":272.8,\"feels_like\":270.02,\"temp_min\":270.49,\"temp_max\":272.8,\"pressure\":1024,\"humidity\":77,\"sea_level\":1024,\"grnd_level\":953},\"visibility\":10000,\"wind\":{\"speed\":2.22,\"deg\":222,\"gust\":1.36},\"clouds\":{\"all\":10},\"dt\":1734762800,\"sys\":{\"type\":1,\"id\":6812,\"country\":\"IT\",\"sunrise\":1734763737,\"sunset\":1734795572},\"timezone\":3600,\"id\":3163858,\"name\":\"Zocca\",\"cod\":200}' \n",
      "\n",
      "\n",
      "_content_consumed : True \n",
      "\n",
      "\n",
      "_next : None \n",
      "\n",
      "\n",
      "status_code : 200 \n",
      "\n",
      "\n",
      "headers : {'Server': 'openresty', 'Date': 'Sat, 21 Dec 2024 06:42:43 GMT', 'Content-Type': 'application/json; charset=utf-8', 'Content-Length': '507', 'Connection': 'keep-alive', 'X-Cache-Key': '/data/2.5/weather?lat=44.34&lon=10.99', 'Access-Control-Allow-Origin': '*', 'Access-Control-Allow-Credentials': 'true', 'Access-Control-Allow-Methods': 'GET, POST'} \n",
      "\n",
      "\n",
      "raw : <urllib3.response.HTTPResponse object at 0x7fd979b046d0> \n",
      "\n",
      "\n",
      "url : https://api.openweathermap.org/data/2.5/weather?lat=44.34&lon=10.99&appid=30da3a731a35e7e69285b1a5dd3244af \n",
      "\n",
      "\n",
      "encoding : utf-8 \n",
      "\n",
      "\n",
      "history : [] \n",
      "\n",
      "\n",
      "reason : OK \n",
      "\n",
      "\n",
      "cookies : <RequestsCookieJar[]> \n",
      "\n",
      "\n",
      "elapsed : 0:00:00.140400 \n",
      "\n",
      "\n",
      "request : <PreparedRequest [GET]> \n",
      "\n",
      "\n",
      "connection : <requests.adapters.HTTPAdapter object at 0x7fd979a20f10> \n",
      "\n",
      "\n"
     ]
    }
   ],
   "source": [
    "for k,v in response.__dict__.items():\n",
    "    print(f\"{k} : {v} \\n\\n\")"
   ]
  },
  {
   "cell_type": "code",
   "execution_count": 14,
   "id": "fb50125c",
   "metadata": {},
   "outputs": [],
   "source": [
    "karnataka_cities = {\n",
    "    \"Bengaluru\": (12.9716, 77.5946),\n",
    "    \"Mysuru\": (12.2958, 76.6394),\n",
    "    \"Mangaluru\": (12.9141, 74.8560),\n",
    "    \"Hubballi\": (15.3647, 75.1239),\n",
    "    \"Dharwad\": (15.4589, 75.0078),\n",
    "    \"Belagavi\": (15.8497, 74.4977),\n",
    "    \"Ballari\": (15.1394, 76.9214),\n",
    "    \"Kalaburagi\": (17.3297, 76.8343),\n",
    "    \"Davangere\": (14.4640, 75.9238),\n",
    "    \"Shivamogga\": (13.9299, 75.5681),\n",
    "    \"Tumakuru\": (13.3392, 77.1130),\n",
    "    \"Udupi\": (13.3409, 74.7421),\n",
    "    \"Bidar\": (17.9139, 77.5045),\n",
    "    \"Chikkamagaluru\": (13.3166, 75.7728),\n",
    "    \"Raichur\": (16.2076, 77.3462),\n",
    "    \"Hassan\": (13.0072, 76.0960),\n",
    "    \"Bijapur\": (16.8302, 75.7100),\n",
    "    \"Kolar\": (13.1367, 78.1291),\n",
    "    \"Mandya\": (12.5211, 76.8953),\n",
    "    \"Bagalkot\": (16.1729, 75.6615),\n",
    "}\n"
   ]
  },
  {
   "cell_type": "code",
   "execution_count": null,
   "id": "5254e91f",
   "metadata": {},
   "outputs": [],
   "source": [
    "import requests\n",
    "import ast\n",
    "input_lat=\"44.34\"\n",
    "input_lon=\"10.99\"\n",
    "input_appid=\"30da3a731a35e7e69285b1a5dd3244af\"\n",
    "\n",
    "\n",
    "url = f\"https://api.openweathermap.org/data/2.5/weather?lat={input_lat}&lon={input_lon}&appid={input_appid}\"\n",
    "\n",
    "payload = {}\n",
    "headers = {}\n",
    "\n",
    "response = requests.request(\"GET\", url, headers=headers, data=payload)\n",
    "binary_string=response._content\n",
    "\n",
    "# Decode the binary string to a regular string\n",
    "decoded_string = binary_string.decode('utf-8')\n",
    "\n",
    "# Convert the string to a dictionary\n",
    "dictionary = ast.literal_eval(decoded_string)\n",
    "\n",
    "\n",
    "print(dictionary.get(\"main\"))"
   ]
  },
  {
   "cell_type": "code",
   "execution_count": null,
   "id": "6f967c81",
   "metadata": {},
   "outputs": [],
   "source": []
  },
  {
   "cell_type": "code",
   "execution_count": 23,
   "id": "2918183f",
   "metadata": {},
   "outputs": [],
   "source": [
    "input_appid=\"30da3a731a35e7e69285b1a5dd3244af\"\n",
    "def get_temperatue_by_lat_lon(input_lat,input_lon):    \n",
    "    url = f\"https://api.openweathermap.org/data/2.5/weather?lat={input_lat}&lon={input_lon}&appid={input_appid}\"\n",
    "    response = requests.request(\"GET\", url, headers=headers, data=payload)\n",
    "    binary_string=response._content\n",
    "\n",
    "    # Decode the binary string to a regular string\n",
    "    decoded_string = binary_string.decode('utf-8')\n",
    "\n",
    "    # Convert the string to a dictionary\n",
    "    dictionary = ast.literal_eval(decoded_string)\n",
    "    \n",
    "    data=dictionary.get(\"main\")\n",
    "    # print(dictionary.get(\"main\"))\n",
    "    temperature=(data.get(\"temp\"),data.get(\"temp_min\"), data.get(\"temp_max\"))\n",
    "    return temperature"
   ]
  },
  {
   "cell_type": "code",
   "execution_count": 24,
   "id": "038ad28e",
   "metadata": {},
   "outputs": [
    {
     "name": "stdout",
     "output_type": "stream",
     "text": [
      "(300.55, 298.94, 300.99)\n"
     ]
    }
   ],
   "source": [
    "print(get_temperatue_by_lat_lon(12.9716, 77.5946))"
   ]
  },
  {
   "cell_type": "code",
   "execution_count": 25,
   "id": "896a1168",
   "metadata": {},
   "outputs": [],
   "source": [
    "def get_temp_by_city(city):\n",
    "    lat,lon=karnataka_cities.get(city)\n",
    "    return get_temperatue_by_lat_lon(lat,lon)"
   ]
  },
  {
   "cell_type": "code",
   "execution_count": 26,
   "id": "790f76ac",
   "metadata": {},
   "outputs": [
    {
     "name": "stdout",
     "output_type": "stream",
     "text": [
      "(300.93, 298.94, 301.25)\n"
     ]
    }
   ],
   "source": [
    "print(get_temp_by_city(\"Bengaluru\"))"
   ]
  },
  {
   "cell_type": "code",
   "execution_count": 37,
   "id": "2919c4fc",
   "metadata": {},
   "outputs": [],
   "source": [
    "city_data=[]\n",
    "city_names=[]\n",
    "for city, lat_lon in karnataka_cities.items():\n",
    "    city_names.append(city)\n",
    "    city_data.append(get_temp_by_city(city))\n",
    "    "
   ]
  },
  {
   "cell_type": "code",
   "execution_count": 38,
   "id": "68b2f10a",
   "metadata": {},
   "outputs": [],
   "source": [
    "city_names=city_names[:10]\n",
    "city_data=city_data[:10]"
   ]
  },
  {
   "cell_type": "code",
   "execution_count": 40,
   "id": "496c41b2",
   "metadata": {},
   "outputs": [
    {
     "data": {
      "image/png": "[encoded data removed]",
      "text/plain": [
       "<Figure size 640x480 with 1 Axes>"
      ]
     },
     "metadata": {},
     "output_type": "display_data"
    }
   ],
   "source": [
    "import matplotlib.pyplot as plt\n",
    "import numpy as np\n",
    "\n",
    "\n",
    "# Create the x positions for the cities with spacing\n",
    "x_positions = np.arange(len(city_names)) * 4  # Multiply to create spaces between cities\n",
    "\n",
    "# Separate data for temperatures\n",
    "temperatures = [data[0] for data in city_data] #list comprehention\n",
    "min_temperatures = [data[1] for data in city_data]\n",
    "max_temperatures = [data[2] for data in city_data]\n",
    "\n",
    "# Width of the bars\n",
    "bar_width = 0.8\n",
    "\n",
    "# Plotting each temperature type\n",
    "plt.bar(x_positions - bar_width, min_temperatures, width=bar_width, label='Min Temperature', color='blue')\n",
    "plt.bar(x_positions, temperatures, width=bar_width, label='Temperature', color='orange')\n",
    "plt.bar(x_positions + bar_width, max_temperatures, width=bar_width, label='Max Temperature', color='red')\n",
    "\n",
    "# Add labels, title, and legend\n",
    "plt.xlabel(\"Cities\")\n",
    "plt.ylabel(\"Temperature (°C)\")\n",
    "plt.title(\"Temperature Data of Cities\")\n",
    "plt.xticks(x_positions, city_names, rotation=45)\n",
    "plt.legend()\n",
    "\n",
    "# Show the plot\n",
    "plt.tight_layout()\n",
    "plt.show()\n"
   ]
  },
  {
   "cell_type": "code",
   "execution_count": null,
   "id": "55289dcf",
   "metadata": {},
   "outputs": [],
   "source": []
  }
 ],
 "metadata": {
  "kernelspec": {
   "display_name": "myvenv",
   "language": "python",
   "name": "myvenv"
  },
  "language_info": {
   "codemirror_mode": {
    "name": "ipython",
    "version": 3
   },
   "file_extension": ".py",
   "mimetype": "text/x-python",
   "name": "python",
   "nbconvert_exporter": "python",
   "pygments_lexer": "ipython3",
   "version": "3.8.8"
  }
 },
 "nbformat": 4,
 "nbformat_minor": 5
}
