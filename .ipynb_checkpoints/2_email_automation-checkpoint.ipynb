{
 "cells": [
  {
   "cell_type": "code",
   "execution_count": 1,
   "id": "292e5159",
   "metadata": {},
   "outputs": [],
   "source": [
    "import ast\n",
    "import requests\n",
    "import smtplib\n",
    "from email.mime.text import MIMEText\n",
    "from email.mime.multipart import MIMEMultipart"
   ]
  },
  {
   "cell_type": "code",
   "execution_count": 2,
   "id": "ef29fa15",
   "metadata": {},
   "outputs": [],
   "source": [
    "input_appid=\"30da3a731a35e7e69285b1a5dd3244af\"\n",
    "def get_temperatue_by_lat_lon(input_lat,input_lon):    \n",
    "    url = f\"https://api.openweathermap.org/data/2.5/weather?lat={input_lat}&lon={input_lon}&appid={input_appid}\"\n",
    "    payload = {}\n",
    "    headers = {}\n",
    "    response = requests.request(\"GET\", url, headers=headers, data=payload)\n",
    "    binary_string=response._content\n",
    "\n",
    "    # Decode the binary string to a regular string\n",
    "    decoded_string = binary_string.decode('utf-8')\n",
    "\n",
    "    # Convert the string to a dictionary\n",
    "    dictionary = ast.literal_eval(decoded_string)\n",
    "    \n",
    "    data=dictionary.get(\"main\")\n",
    "    # print(dictionary.get(\"main\"))\n",
    "    temperature=(data.get(\"temp\"),data.get(\"temp_min\"), data.get(\"temp_max\"))\n",
    "    return temperature\n"
   ]
  },
  {
   "cell_type": "code",
   "execution_count": 10,
   "id": "9f67de08",
   "metadata": {},
   "outputs": [],
   "source": [
    "def send_email(lat,lon,recipient_email):\n",
    "    try:\n",
    "        sender_email = \"dm6192419@gmail.com\"\n",
    "        sender_password = \"edct mxas pkco zgbn\"  # Use an app password if 2FA is enabled\n",
    "       \n",
    "        subject = \"Weather Report by Divyansh\"\n",
    "        \n",
    "        data=get_temperatue_by_lat_lon(lat, lon)\n",
    "        temperature=data[0]\n",
    "        min_temp=data[1]\n",
    "        max_temp=data[2]\n",
    "        \n",
    "        \n",
    "        body = f'''As per the given longitude and latitude, the maximum temperature is {max_temp} , minimum temperatiure is {min_temp} and the current temperature is {temperature}.'''\n",
    "        \n",
    "        # Set up the MIME\n",
    "        message = MIMEMultipart()\n",
    "        message['From'] = sender_email\n",
    "        message['To'] = recipient_email\n",
    "        message['Subject'] = subject\n",
    "\n",
    "        # Attach the body to the email\n",
    "        message.attach(MIMEText(body, 'plain'))\n",
    "\n",
    "        # Connect to the server and send the email\n",
    "        server = smtplib.SMTP('smtp.gmail.com', 587)\n",
    "        server.starttls()  # Upgrade connection to secure encrypted SSL/TLS\n",
    "        server.login(sender_email, sender_password)\n",
    "        server.sendmail(sender_email, recipient_email, message.as_string())\n",
    "        server.quit()\n",
    "\n",
    "        return f\"Email sent successfully to email ID : {recipient_email}\"\n",
    "\n",
    "    except Exception as e:\n",
    "        return f\"Failed to send email: {e}\""
   ]
  },
  {
   "cell_type": "code",
   "execution_count": 12,
   "id": "77210672",
   "metadata": {},
   "outputs": [
    {
     "name": "stdout",
     "output_type": "stream",
     "text": [
      "Email sent successfully to email ID : divyansh.ku@gmail.com\n"
     ]
    }
   ],
   "source": [
    "print(send_email(12.9716, 77.5946, \"divyansh.ku@gmail.com\"))"
   ]
  },
  {
   "cell_type": "code",
   "execution_count": null,
   "id": "32816574",
   "metadata": {},
   "outputs": [],
   "source": []
  }
 ],
 "metadata": {
  "kernelspec": {
   "display_name": "myvenv",
   "language": "python",
   "name": "myvenv"
  },
  "language_info": {
   "codemirror_mode": {
    "name": "ipython",
    "version": 3
   },
   "file_extension": ".py",
   "mimetype": "text/x-python",
   "name": "python",
   "nbconvert_exporter": "python",
   "pygments_lexer": "ipython3",
   "version": "3.8.8"
  }
 },
 "nbformat": 4,
 "nbformat_minor": 5
}
